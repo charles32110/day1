{
 "cells": [
  {
   "cell_type": "code",
   "execution_count": 1,
   "metadata": {
    "collapsed": true
   },
   "outputs": [
    {
     "name": "stdout",
     "output_type": "stream",
     "text": [
      "different num: [(1, 2, 3), (1, 2, 4), (1, 3, 2), (1, 3, 4), (1, 4, 2), (1, 4, 3), (2, 1, 3), (2, 1, 4), (2, 3, 1), (2, 3, 4), (2, 4, 1), (2, 4, 3), (3, 1, 2), (3, 1, 4), (3, 2, 1), (3, 2, 4), (3, 4, 1), (3, 4, 2), (4, 1, 2), (4, 1, 3), (4, 2, 1), (4, 2, 3), (4, 3, 1), (4, 3, 2)]\nsame contain num: [(1, 1, 1), (1, 1, 2), (1, 1, 3), (1, 1, 4), (1, 2, 1), (1, 2, 2), (1, 3, 1), (1, 3, 3), (1, 4, 1), (1, 4, 4), (2, 1, 1), (2, 1, 2), (2, 2, 1), (2, 2, 2), (2, 2, 3), (2, 2, 4), (2, 3, 2), (2, 3, 3), (2, 4, 2), (2, 4, 4), (3, 1, 1), (3, 1, 3), (3, 2, 2), (3, 2, 3), (3, 3, 1), (3, 3, 2), (3, 3, 3), (3, 3, 4), (3, 4, 3), (3, 4, 4), (4, 1, 1), (4, 1, 4), (4, 2, 2), (4, 2, 4), (4, 3, 3), (4, 3, 4), (4, 4, 1), (4, 4, 2), (4, 4, 3), (4, 4, 4)]\n"
     ]
    }
   ],
   "source": [
    "#coding:utf-8\n",
    "#we start several tasks everydaty to accomplish and strenthen what we have studied.\n",
    "#the tasks source is from\n",
    "# http://www.runoob.com/python/python-exercise-example1.html\n",
    "#1有四个数字：1、2、3、4，能组成多少个互不相同且无重复数字的三位数？各是多少？\n",
    "diff = []\n",
    "same = []\n",
    "for a in range(1,5):\n",
    "    for b in range(1,5):\n",
    "        for c in range(1,5):\n",
    "            if (a !=b) and (a !=c) and (b != c):\n",
    "                #print (a,b,c,\"different character\")\n",
    "                diff.append((a,b,c))\n",
    "            else:\n",
    "                #print (a,b,c,\"contain same number\")\n",
    "                same.append((a,b,c))\n",
    "print 'different num:' , diff\n",
    "print 'same contain num:' , same"
   ]
  },
  {
   "cell_type": "code",
   "execution_count": 3,
   "metadata": {},
   "outputs": [
    {
     "name": "stdout",
     "output_type": "stream",
     "text": [
      "1758.375\n"
     ]
    }
   ],
   "source": [
    "#coding:utf-8\n",
    "#2企业发放的奖金根据利润提成。利润(I)低于或等于10万元时，奖金可提10%；\n",
    "# 利润高于10万元，低于20万元时，低于10万元的部分按10%提成，高于10万元的部分，可提成7.5%；\n",
    "# 20万到40万之间时，高于20万元的部分，可提成5%；\n",
    "# 40万到60万之间时高于40万元的部分，可提成3%；\n",
    "# 60万到100万之间时，高于60万元的部分，可提成1.5%，\n",
    "# 高于100万元时，超过100万元的部分按1%提成，\n",
    "# 从键盘输入当月利润I，求应发放奖金总数？\n",
    "def profit(i):\n",
    "    arr = [1000000, 600000, 400000, 200000, 100000, 0]\n",
    "    rat = [0.01, 0.015, 0.03, 0.05, 0.075, 0.1]\n",
    "    r = 0\n",
    "    for idx in range(0, 6):\n",
    "        if i > arr[idx]:\n",
    "            r += (i - arr[idx]) * rat[idx]\n",
    "            return (i - arr[idx]) * rat[idx]\n",
    "            i = arr[idx]\n",
    "            print r\n",
    "\n",
    "q = profit(123445)\n",
    "print q\n",
    "\n",
    "\n",
    "\n",
    "\n",
    "\n",
    "\n",
    "\n"
   ]
  },
  {
   "cell_type": "code",
   "execution_count": 4,
   "metadata": {},
   "outputs": [
    {
     "name": "stdout",
     "output_type": "stream",
     "text": [
      "-99\n21\n261\n1581\n"
     ]
    }
   ],
   "source": [
    "#coding:utf-8\n",
    "#3一个整数，它加上100后是一个完全平方数，再加上168又是一个完全平方数，请问该数是多少？\n",
    "#答案网上有，今天浪一下，不想分析，\n",
    "\n",
    "for i in range(1,85):\n",
    "    if 168 % i == 0:\n",
    "        j = 168 / i;\n",
    "        if  i > j and (i + j) % 2 == 0 and (i - j) % 2 == 0 :\n",
    "            m = (i + j) / 2\n",
    "            n = (i - j) / 2\n",
    "            x = n * n - 100\n",
    "            print(x)"
   ]
  },
  {
   "cell_type": "code",
   "execution_count": 1,
   "metadata": {},
   "outputs": [
    {
     "name": "stdout",
     "output_type": "stream",
     "text": [
      "this is 82th day\n"
     ]
    }
   ],
   "source": [
    "#coding:utf-8\n",
    "#4输入某年某月某日，判断这一天是这一年的第几天？\n",
    "x = 2016#input(\"year:\")\n",
    "y = 3#input(\"month:\")\n",
    "z = 22#input(\"day:\")\n",
    "month = [1,2,3,4,5,6,7,8,9,10,11,12]\n",
    "if x % 4 == 0:\n",
    "    a = 29\n",
    "else:\n",
    "    a = 28\n",
    "daylist = [31, a, 31, 30, 31, 30, 31, 31, 30, 31, 30, 31]\n",
    "#注意，liststart from 0\n",
    "if y in month and z <= daylist[y-1]:\n",
    "    y = y-1\n",
    "    while (y > 0):\n",
    "        y = y - 1\n",
    "        z += daylist[y]\n",
    "\n",
    "\n",
    "    print (\"this is %dth day\")%z\n",
    "else:\n",
    "    print (\"wrong date\")\n",
    "\n"
   ]
  },
  {
   "cell_type": "code",
   "execution_count": null,
   "metadata": {},
   "outputs": [],
   "source": [
    "#coding:utf-8\n",
    "#输入三个整数x,y,z，请把这三个数由小到大输出。\n",
    "\n",
    "L = []\n",
    "i = 3\n",
    "while i >0:\n",
    "    L.append(input(\"输入：\"))\n",
    "    i = i-1\n",
    "L.sort()\n",
    "print L"
   ]
  },
  {
   "cell_type": "code",
   "execution_count": 5,
   "metadata": {},
   "outputs": [
    {
     "name": "stdout",
     "output_type": "stream",
     "text": [
      "55\n"
     ]
    }
   ],
   "source": [
    "#coding:utf-8\n",
    "#题目：斐波那契数列。程序分析：斐波那契数列（Fibonacci sequence），又称黄金分割数列，指的是这样一个数列：0、1、1、2、3、5、8、13、21、34、……。\n",
    "#在数学上，费波那契数列是以递归的方法来定义：\n",
    "\n",
    "def fib(n):\n",
    "    a, b = 1, 1\n",
    "    for i in range(n - 1):\n",
    "        a, b = b, a + b\n",
    "    return a\n",
    "# 输出了第10个斐波那契数列\n",
    "print fib(10)"
   ]
  },
  {
   "cell_type": "code",
   "execution_count": null,
   "metadata": {},
   "outputs": [],
   "source": []
  }
 ],
 "metadata": {
  "kernelspec": {
   "display_name": "Python 2",
   "language": "python",
   "name": "python2"
  },
  "language_info": {
   "codemirror_mode": {
    "name": "ipython",
    "version": 2
   },
   "file_extension": ".py",
   "mimetype": "text/x-python",
   "name": "python",
   "nbconvert_exporter": "python",
   "pygments_lexer": "ipython2",
   "version": "2.7.6"
  }
 },
 "nbformat": 4,
 "nbformat_minor": 0
}
