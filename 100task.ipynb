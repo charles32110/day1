{
 "cells": [
  {
   "cell_type": "code",
   "execution_count": 1,
   "metadata": {
    "collapsed": true
   },
   "outputs": [
    {
     "name": "stdout",
     "output_type": "stream",
     "text": [
      "different num: [(1, 2, 3), (1, 2, 4), (1, 3, 2), (1, 3, 4), (1, 4, 2), (1, 4, 3), (2, 1, 3), (2, 1, 4), (2, 3, 1), (2, 3, 4), (2, 4, 1), (2, 4, 3), (3, 1, 2), (3, 1, 4), (3, 2, 1), (3, 2, 4), (3, 4, 1), (3, 4, 2), (4, 1, 2), (4, 1, 3), (4, 2, 1), (4, 2, 3), (4, 3, 1), (4, 3, 2)]\nsame contain num: [(1, 1, 1), (1, 1, 2), (1, 1, 3), (1, 1, 4), (1, 2, 1), (1, 2, 2), (1, 3, 1), (1, 3, 3), (1, 4, 1), (1, 4, 4), (2, 1, 1), (2, 1, 2), (2, 2, 1), (2, 2, 2), (2, 2, 3), (2, 2, 4), (2, 3, 2), (2, 3, 3), (2, 4, 2), (2, 4, 4), (3, 1, 1), (3, 1, 3), (3, 2, 2), (3, 2, 3), (3, 3, 1), (3, 3, 2), (3, 3, 3), (3, 3, 4), (3, 4, 3), (3, 4, 4), (4, 1, 1), (4, 1, 4), (4, 2, 2), (4, 2, 4), (4, 3, 3), (4, 3, 4), (4, 4, 1), (4, 4, 2), (4, 4, 3), (4, 4, 4)]\n"
     ]
    }
   ],
   "source": [
    "#coding:utf-8\n",
    "#1we start several tasks everydaty to accomplish and strenthen \n",
    "# what we have studied.\n",
    "#the tasks source is from\n",
    "# http://www.runoob.com/python/python-exercise-example1.html\n",
    "#1有四个数字：1、2、3、4，能组成多少个互不相同且无重复数字的三位数？各是多少？\n",
    "diff = []\n",
    "same = []\n",
    "for a in range(1,5):\n",
    "    for b in range(1,5):\n",
    "        for c in range(1,5):\n",
    "            if (a !=b) and (a !=c) and (b != c):\n",
    "                #print (a,b,c,\"different character\")\n",
    "                diff.append((a,b,c))\n",
    "            else:\n",
    "                #print (a,b,c,\"contain same number\")\n",
    "                same.append((a,b,c))\n",
    "print 'different num:' , diff\n",
    "print 'same contain num:' , same"
   ]
  },
  {
   "cell_type": "code",
   "execution_count": 3,
   "metadata": {},
   "outputs": [
    {
     "name": "stdout",
     "output_type": "stream",
     "text": [
      "1758.375\n"
     ]
    }
   ],
   "source": [
    "#coding:utf-8\n",
    "#2企业发放的奖金根据利润提成。利润(I)低于或等于10万元时，奖金可提10%；\n",
    "# 利润高于10万元，低于20万元时，低于10万元的部分按10%提成，高于10万元的部分，可提成7.5%；\n",
    "# 20万到40万之间时，高于20万元的部分，可提成5%；\n",
    "# 40万到60万之间时高于40万元的部分，可提成3%；\n",
    "# 60万到100万之间时，高于60万元的部分，可提成1.5%，\n",
    "# 高于100万元时，超过100万元的部分按1%提成，\n",
    "# 从键盘输入当月利润I，求应发放奖金总数？\n",
    "def profit(i):\n",
    "    arr = [1000000, 600000, 400000, 200000, 100000, 0]\n",
    "    rat = [0.01, 0.015, 0.03, 0.05, 0.075, 0.1]\n",
    "    r = 0\n",
    "    for idx in range(0, 6):\n",
    "        if i > arr[idx]:\n",
    "            r += (i - arr[idx]) * rat[idx]\n",
    "            return (i - arr[idx]) * rat[idx]\n",
    "            i = arr[idx]\n",
    "            print r\n",
    "\n",
    "q = profit(123445)\n",
    "print q\n",
    "\n",
    "\n",
    "\n",
    "\n",
    "\n",
    "\n",
    "\n"
   ]
  },
  {
   "cell_type": "code",
   "execution_count": 4,
   "metadata": {},
   "outputs": [
    {
     "name": "stdout",
     "output_type": "stream",
     "text": [
      "-99\n21\n261\n1581\n"
     ]
    }
   ],
   "source": [
    "#coding:utf-8\n",
    "#3一个整数，它加上100后是一个完全平方数，再加上168又是一个完全平方数，请问该数是多少？\n",
    "#答案网上有，今天浪一下，不想分析，\n",
    "\n",
    "for i in range(1,85):\n",
    "    if 168 % i == 0:\n",
    "        j = 168 / i;\n",
    "        if  i > j and (i + j) % 2 == 0 and (i - j) % 2 == 0 :\n",
    "            m = (i + j) / 2\n",
    "            n = (i - j) / 2\n",
    "            x = n * n - 100\n",
    "            print(x)"
   ]
  },
  {
   "cell_type": "code",
   "execution_count": 3,
   "metadata": {},
   "outputs": [
    {
     "name": "stdout",
     "output_type": "stream",
     "text": [
      "this is 82th day\n"
     ]
    }
   ],
   "source": [
    "#coding:utf-8\n",
    "#4输入某年某月某日，判断这一天是这一年的第几天？\n",
    "x = 2016#input(\"year:\")\n",
    "y = 3#input(\"month:\")\n",
    "z = 22#input(\"day:\")\n",
    "month = [1,2,3,4,5,6,7,8,9,10,11,12]\n",
    "if x % 4 == 0:\n",
    "    a = 29\n",
    "else:\n",
    "    a = 28\n",
    "daylist = [31, a, 31, 30, 31, 30, 31, 31, 30, 31, 30, 31]\n",
    "#注意，liststart from 0\n",
    "if y in month and z <= daylist[y-1]:\n",
    "    y = y-1\n",
    "    while (y > 0):\n",
    "        y = y - 1\n",
    "        z += daylist[y]\n",
    "\n",
    "\n",
    "    print (\"this is %dth day\")%z\n",
    "else:\n",
    "    print (\"wrong date\")\n",
    "\n"
   ]
  },
  {
   "cell_type": "code",
   "execution_count": null,
   "metadata": {},
   "outputs": [],
   "source": [
    "#coding:utf-8\n",
    "#5输入三个整数x,y,z，请把这三个数由小到大输出。\n",
    "\n",
    "L = []\n",
    "i = 3\n",
    "while i >0:\n",
    "    L.append(input(\"输入：\"))\n",
    "    i = i-1\n",
    "L.sort()\n",
    "print L"
   ]
  },
  {
   "cell_type": "code",
   "execution_count": 3,
   "metadata": {},
   "outputs": [
    {
     "name": "stdout",
     "output_type": "stream",
     "text": [
      "55\n"
     ]
    }
   ],
   "source": [
    "#coding:utf-8\n",
    "#6题目：斐波那契数列。程序分析：斐波那契数列（Fibonacci sequence），又称黄金分割数列，指的是这样一个数列：0、1、1、2、3、5、8、13、21、34、……。\n",
    "#在数学上，费波那契数列是以递归的方法来定义：\n",
    "\n",
    "def fib(n):\n",
    "    a, b = 1, 1\n",
    "    for i in range(n - 1):\n",
    "        a, b = b, a + b\n",
    "    return a\n",
    "# 输出了第10个斐波那契数列\n",
    "print fib(10)"
   ]
  },
  {
   "cell_type": "code",
   "execution_count": 13,
   "metadata": {},
   "outputs": [
    {
     "name": "stdout",
     "output_type": "stream",
     "text": [
      "1*1=1 2*1=2 2*2=4 3*1=3 3*2=6 3*3=9 4*1=4 4*2=8 4*3=12 4*4=16 5*1=5 5*2=10 5*3=15 5*4=20 5*5=25 6*1=6 6*2=12 6*3=18 6*4=24 6*5=30 6*6=36 7*1=7 7*2=14 7*3=21 7*4=28 7*5=35 7*6=42 7*7=49 8*1=8 8*2=16 8*3=24 8*4=32 8*5=40 8*6=48 8*7=56 8*8=64 9*1=9 9*2=18 9*3=27 9*4=36 9*5=45 9*6=54 9*7=63 9*8=72 9*9=81\n"
     ]
    }
   ],
   "source": [
    "#coding:utf-8\n",
    "#7输出 9*9 乘法口诀表。\n",
    "for i in range(1, 10):\n",
    "    for j in range(1, i+1):\n",
    "        print \"%d*%d=%d\" % (i, j, i*j),"
   ]
  },
  {
   "cell_type": "code",
   "execution_count": 14,
   "metadata": {},
   "outputs": [
    {
     "name": "stdout",
     "output_type": "stream",
     "text": [
      "           1            1            2            3            5            8 \n          13           21           34           55           89          144 \n         233          377          610          987         1597         2584 \n        4181         6765        10946        17711        28657        46368 \n       75025       121393       196418       317811       514229       832040 \n     1346269      2178309      3524578      5702887      9227465     14930352 \n    24157817     39088169     63245986    102334155    165580141    267914296 \n"
     ]
    }
   ],
   "source": [
    "#coding:utf-8\n",
    "#9古典问题：有一对兔子，从出生后第3个月起每个月都生一对兔子，\n",
    "# 小兔子长到第三个月后每个月又生一对兔子，假如兔子都不死，问每个月的兔子总数为多少？\n",
    "f1 = 1\n",
    "f2 = 1\n",
    "for i in range(1,22):\n",
    "    print '%12ld %12ld' % (f1,f2),\n",
    "    if (i % 3) == 0:\n",
    "        print ''\n",
    "    f1 = f1 + f2\n",
    "    f2 = f1 + f2\n",
    "\n",
    "\n",
    "\n",
    "\n",
    "\n",
    "\n",
    "\n",
    "\n",
    "\n",
    "\n",
    "\n",
    "\n"
   ]
  },
  {
   "cell_type": "code",
   "execution_count": 2,
   "metadata": {},
   "outputs": [
    {
     "name": "stdout",
     "output_type": "stream",
     "text": [
      "153\n370\n371\n407\n"
     ]
    }
   ],
   "source": [
    "#coding:utf-8\n",
    "#10打印出所有的\"水仙花数\"，所谓\"水仙花数\"是指一个三位数，其各位数字立方和等于该数本身。\n",
    "# 例如：153是一个\"水仙花数\"，因为153=1的三次方＋5的三次方＋3的三次方。\n",
    "\n",
    "for x in range(1,9):\n",
    "    for y in range(0,10):\n",
    "        for z in range(0,10):\n",
    "            if x**3+y**3+z**3 == 100*x + 10*y + z:\n",
    "                print ('%s'%x+'%s'%y+'%s'%z)\n",
    "\n",
    "\n",
    "\n",
    "\n",
    "\n",
    "\n",
    "\n",
    "\n",
    "\n"
   ]
  },
  {
   "cell_type": "code",
   "execution_count": null,
   "metadata": {},
   "outputs": [],
   "source": [
    "#coding:utf-8\n",
    "#11将一个正整数分解质因数。例如：输入90,打印出90=2*3*3*5。\n",
    "#解析：分解质因数主要问题在于如何调用质数，然后循环尝试即可\n",
    "\n",
    "\n",
    "\n",
    "\n",
    "\n"
   ]
  },
  {
   "cell_type": "code",
   "execution_count": 5,
   "metadata": {},
   "outputs": [
    {
     "name": "stdout",
     "output_type": "stream",
     "text": [
      "a\nb\nc\n"
     ]
    }
   ],
   "source": [
    "#coding:utf-8\n",
    "# 利用条件运算符的嵌套来完成此题：学习成绩>=90分的同学用A表示，60-89分之间的用B表示，60分以下的用C表示。\n",
    "\n",
    "def score(num):\n",
    "    if num >= 90:\n",
    "        return 'a'\n",
    "    elif num >60 and num<=89:\n",
    "        return 'b'\n",
    "    else:\n",
    "        return  'c'\n",
    "\n",
    "print score(95)\n",
    "print score(79)\n",
    "print score(55)\n"
   ]
  },
  {
   "cell_type": "code",
   "execution_count": null,
   "metadata": {},
   "outputs": [],
   "source": []
  }
 ],
 "metadata": {
  "kernelspec": {
   "display_name": "Python 2",
   "language": "python",
   "name": "python2"
  },
  "language_info": {
   "codemirror_mode": {
    "name": "ipython",
    "version": 2
   },
   "file_extension": ".py",
   "mimetype": "text/x-python",
   "name": "python",
   "nbconvert_exporter": "python",
   "pygments_lexer": "ipython2",
   "version": "2.7.6"
  }
 },
 "nbformat": 4,
 "nbformat_minor": 0
}
