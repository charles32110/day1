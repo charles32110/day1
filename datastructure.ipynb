{
 "cells": [
  {
   "cell_type": "code",
   "execution_count": 1,
   "metadata": {
    "collapsed": true
   },
   "outputs": [
    {
     "name": "stdout",
     "output_type": "stream",
     "text": [
      "1 a\n2 b\n3 c\n"
     ]
    }
   ],
   "source": [
    "import os\n",
    "import json\n",
    "\n",
    "\n",
    "\n",
    "#list nesting:\n",
    "data = [{'num':'1','letter':'a'},{'num':'2','letter':'b'},{'num':'3','letter':'c'}]\n",
    "for x in data: #go through the list\n",
    "    print x['num'], x['letter']"
   ]
  },
  {
   "cell_type": "code",
   "execution_count": null,
   "metadata": {},
   "outputs": [],
   "source": [
    "import Queue\n",
    "#queue could be any container, \n",
    "# but they need to be extracted once a time \n",
    "Qlist = Queue.Queue()  #init one queue() function\n",
    "for n in data:\n",
    "    Qlist.put(n)\n",
    "detail = Qlist.get()\n",
    "\n",
    "\n",
    "\n",
    "\n",
    "\n"
   ]
  }
 ],
 "metadata": {
  "kernelspec": {
   "display_name": "Python 2",
   "language": "python",
   "name": "python2"
  },
  "language_info": {
   "codemirror_mode": {
    "name": "ipython",
    "version": 2
   },
   "file_extension": ".py",
   "mimetype": "text/x-python",
   "name": "python",
   "nbconvert_exporter": "python",
   "pygments_lexer": "ipython2",
   "version": "2.7.6"
  }
 },
 "nbformat": 4,
 "nbformat_minor": 0
}
